{
 "cells": [
  {
   "cell_type": "code",
   "execution_count": 1,
   "metadata": {},
   "outputs": [],
   "source": [
    "import numpy as np\n",
    "N  = int(input(\"enter the square  matrix number\"))\n",
    "if N%2==0: # magic square print function\n",
    "  print(\"magic square wont work on even matrix size.\")\n",
    "  print(\"enter odd number \")\n",
    "  N  = int(input(\"enter the square  matrix number\"))\n",
    "magic_square = np.zeros((N,N), dtype=int)\n",
    "n = 1\n",
    "i= 0\n",
    "j = N//2\n",
    "\n",
    "while n <= N**2:\n",
    "    magic_square[i, j] = n\n",
    "    n+=1 # were using num go to for ward\n",
    "    x = (i-1) % N #up right or else down\n",
    "    y = (j+1)% N\n",
    "    if magic_square[x, y]:\n",
    "        i +=1\n",
    "    else:\n",
    "        i, j = x, y\n",
    "print(\"Solved Magic Square is:\")\n",
    "print(magic_square)"
   ]
  }
 ],
 "metadata": {
  "kernelspec": {
   "display_name": "Python 3.10.7 64-bit",
   "language": "python",
   "name": "python3"
  },
  "language_info": {
   "codemirror_mode": {
    "name": "ipython",
    "version": 3
   },
   "file_extension": ".py",
   "mimetype": "text/x-python",
   "name": "python",
   "nbconvert_exporter": "python",
   "pygments_lexer": "ipython3",
   "version": "3.10.7"
  },
  "orig_nbformat": 4,
  "vscode": {
   "interpreter": {
    "hash": "ea28a5ae4288c00d0d46cfe270255a54e8916ff7ad34c80304b66ad5bf5fd514"
   }
  }
 },
 "nbformat": 4,
 "nbformat_minor": 2
}
