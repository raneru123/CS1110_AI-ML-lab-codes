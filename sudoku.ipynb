{
 "cells": [
  {
   "cell_type": "code",
   "execution_count": null,
   "metadata": {},
   "outputs": [],
   "source": [
    "import numpy as np\n",
    "\n",
    "grid = [[5,3,0,0,7,0,0,0,0],\n",
    "        [6,0,0,1,9,5,0,0,0],\n",
    "        [0,9,8,0,0,0,0,6,0],\n",
    "        [8,0,0,0,6,0,0,0,3],\n",
    "        [4,0,0,8,0,3,0,0,1],\n",
    "        [7,0,0,0,2,0,0,0,6],\n",
    "        [0,6,0,0,0,0,2,8,0],\n",
    "        [0,0,0,0,1,9,0,0,5],\n",
    "        [0,0,0,0,0,0,0,0,0]] #aray\n",
    "\n",
    "def possible(row, column, number):\n",
    "    global grid #values chages purspose we are using\n",
    "    #Is the number appearing in the given row?\n",
    "    for i in range(0,9):\n",
    "        if grid[row][i] == number: #valve deterime row\n",
    "            return False\n",
    "\n",
    "    #Is the number appearing in the given column?\n",
    "    for i in range(0,9):\n",
    "        if grid[i][column] == number: # coloum values determine\n",
    "            return False\n",
    "    \n",
    "    #Is the number appearing in the given square?\n",
    "    x0 = (column // 3) * 3\n",
    "    y0 = (row // 3) * 3 #first 3**3matxix determine \n",
    "    for i in range(0,3):\n",
    "        for j in range(0,3):\n",
    "            if grid[y0+i][x0+j] == number:\n",
    "                return False\n",
    "\n",
    "    return True\n",
    "\n",
    "def solve():\n",
    "    global grid\n",
    "    for row in range(0,9):\n",
    "        for column in range(0,9):\n",
    "            if grid[row][column] == 0:\n",
    "                for number in range(1,10):\n",
    "                    if possible(row, column, number):\n",
    "                        grid[row][column] = number\n",
    "                        solve()\n",
    "                        grid[row][column] = 0 # recursive\n",
    "\n",
    "                return\n",
    "      \n",
    "    print(np.matrix(grid))\n",
    "    input('More possible solutions')\n",
    "\n",
    "solve()"
   ]
  }
 ],
 "metadata": {
  "kernelspec": {
   "display_name": "Python 3.10.7 64-bit",
   "language": "python",
   "name": "python3"
  },
  "language_info": {
   "name": "python",
   "version": "3.10.7"
  },
  "orig_nbformat": 4,
  "vscode": {
   "interpreter": {
    "hash": "ea28a5ae4288c00d0d46cfe270255a54e8916ff7ad34c80304b66ad5bf5fd514"
   }
  }
 },
 "nbformat": 4,
 "nbformat_minor": 2
}
